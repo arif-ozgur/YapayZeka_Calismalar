{
  "nbformat": 4,
  "nbformat_minor": 0,
  "metadata": {
    "colab": {
      "provenance": []
    },
    "kernelspec": {
      "name": "python3",
      "display_name": "Python 3"
    },
    "language_info": {
      "name": "python"
    }
  },
  "cells": [
    {
      "cell_type": "markdown",
      "source": [
        "03.10.2024 - İGÜ MYO BİLGİSAYAR TEKNOLOJİSİ PROGRAMI YAPAY ZEKA DERSİ İLK KODLAMA ÇIKTISI"
      ],
      "metadata": {
        "id": "eKhV-cO6YCoi"
      }
    },
    {
      "cell_type": "code",
      "execution_count": 1,
      "metadata": {
        "colab": {
          "base_uri": "https://localhost:8080/"
        },
        "id": "AfwspCTfXYjY",
        "outputId": "c268ce23-d66f-419c-984f-7df08b17d696"
      },
      "outputs": [
        {
          "output_type": "stream",
          "name": "stdout",
          "text": [
            "Merhaba İGÜ MYO YZ Dersi\n"
          ]
        }
      ],
      "source": [
        "print(\"Merhaba İGÜ MYO YZ Dersi\") # YAPAY ZEKA DERSİ"
      ]
    },
    {
      "cell_type": "code",
      "source": [
        "import sys #import python programlama dilinde yazılıma kütüphane eklemeye yarar\n",
        "print(sys.version)"
      ],
      "metadata": {
        "colab": {
          "base_uri": "https://localhost:8080/"
        },
        "id": "lVepHT4Ijh7L",
        "outputId": "6487d977-6029-4df1-cefc-5f004ad03270"
      },
      "execution_count": 2,
      "outputs": [
        {
          "output_type": "stream",
          "name": "stdout",
          "text": [
            "3.10.12 (main, Sep 11 2024, 15:47:36) [GCC 11.4.0]\n"
          ]
        }
      ]
    },
    {
      "cell_type": "code",
      "source": [
        "from google.colab import drive #google colab - drive bağlantısı\n",
        "drive.mount('/content/drive')"
      ],
      "metadata": {
        "colab": {
          "base_uri": "https://localhost:8080/"
        },
        "id": "yQEWCNjsk7Jo",
        "outputId": "fede4144-e770-4e66-fcfd-a4496a797356"
      },
      "execution_count": 3,
      "outputs": [
        {
          "output_type": "stream",
          "name": "stdout",
          "text": [
            "Mounted at /content/drive\n"
          ]
        }
      ]
    },
    {
      "cell_type": "code",
      "source": [
        "import os\n",
        "os.chdir('/content/drive/My Drive/YapayZekaDERSİ')\n",
        "!pwd # bize kopdun çıktısını doysa yolu olarak veren kod blogudur."
      ],
      "metadata": {
        "colab": {
          "base_uri": "https://localhost:8080/"
        },
        "id": "uF4ztpbVlfJB",
        "outputId": "c28b30de-cb9a-4813-9206-e4466f7b0bba"
      },
      "execution_count": 8,
      "outputs": [
        {
          "output_type": "stream",
          "name": "stdout",
          "text": [
            "/content/drive/My Drive/YapayZekaDERSİ\n"
          ]
        }
      ]
    }
  ]
}